{
 "cells": [
  {
   "cell_type": "markdown",
   "id": "fc327ebf",
   "metadata": {},
   "source": [
    "# Step 4 Exploring Data"
   ]
  },
  {
   "cell_type": "code",
   "execution_count": 1,
   "id": "40842d23",
   "metadata": {},
   "outputs": [],
   "source": [
    "import pandas as pd\n",
    "mcD=pd.read_csv('mcdonalds.csv')"
   ]
  },
  {
   "cell_type": "code",
   "execution_count": 2,
   "id": "589ff894",
   "metadata": {},
   "outputs": [
    {
     "data": {
      "text/plain": [
       "Index(['yummy', 'convenient', 'spicy', 'fattening', 'greasy', 'fast', 'cheap',\n",
       "       'tasty', 'expensive', 'healthy', 'disgusting', 'Like', 'Age',\n",
       "       'VisitFrequency', 'Gender'],\n",
       "      dtype='object')"
      ]
     },
     "execution_count": 2,
     "metadata": {},
     "output_type": "execute_result"
    }
   ],
   "source": [
    "mcD.columns"
   ]
  },
  {
   "cell_type": "code",
   "execution_count": 3,
   "id": "971bd4dd",
   "metadata": {},
   "outputs": [
    {
     "data": {
      "text/plain": [
       "(1453, 15)"
      ]
     },
     "execution_count": 3,
     "metadata": {},
     "output_type": "execute_result"
    }
   ],
   "source": [
    "mcD.shape"
   ]
  },
  {
   "cell_type": "code",
   "execution_count": 4,
   "id": "aa4daa5b",
   "metadata": {},
   "outputs": [
    {
     "data": {
      "text/html": [
       "<div>\n",
       "<style scoped>\n",
       "    .dataframe tbody tr th:only-of-type {\n",
       "        vertical-align: middle;\n",
       "    }\n",
       "\n",
       "    .dataframe tbody tr th {\n",
       "        vertical-align: top;\n",
       "    }\n",
       "\n",
       "    .dataframe thead th {\n",
       "        text-align: right;\n",
       "    }\n",
       "</style>\n",
       "<table border=\"1\" class=\"dataframe\">\n",
       "  <thead>\n",
       "    <tr style=\"text-align: right;\">\n",
       "      <th></th>\n",
       "      <th>yummy</th>\n",
       "      <th>convenient</th>\n",
       "      <th>spicy</th>\n",
       "      <th>fattening</th>\n",
       "      <th>greasy</th>\n",
       "      <th>fast</th>\n",
       "      <th>cheap</th>\n",
       "      <th>tasty</th>\n",
       "      <th>expensive</th>\n",
       "      <th>healthy</th>\n",
       "      <th>disgusting</th>\n",
       "      <th>Like</th>\n",
       "      <th>Age</th>\n",
       "      <th>VisitFrequency</th>\n",
       "      <th>Gender</th>\n",
       "    </tr>\n",
       "  </thead>\n",
       "  <tbody>\n",
       "    <tr>\n",
       "      <th>0</th>\n",
       "      <td>No</td>\n",
       "      <td>Yes</td>\n",
       "      <td>No</td>\n",
       "      <td>Yes</td>\n",
       "      <td>No</td>\n",
       "      <td>Yes</td>\n",
       "      <td>Yes</td>\n",
       "      <td>No</td>\n",
       "      <td>Yes</td>\n",
       "      <td>No</td>\n",
       "      <td>No</td>\n",
       "      <td>-3</td>\n",
       "      <td>61</td>\n",
       "      <td>Every three months</td>\n",
       "      <td>Female</td>\n",
       "    </tr>\n",
       "    <tr>\n",
       "      <th>1</th>\n",
       "      <td>Yes</td>\n",
       "      <td>Yes</td>\n",
       "      <td>No</td>\n",
       "      <td>Yes</td>\n",
       "      <td>Yes</td>\n",
       "      <td>Yes</td>\n",
       "      <td>Yes</td>\n",
       "      <td>Yes</td>\n",
       "      <td>Yes</td>\n",
       "      <td>No</td>\n",
       "      <td>No</td>\n",
       "      <td>+2</td>\n",
       "      <td>51</td>\n",
       "      <td>Every three months</td>\n",
       "      <td>Female</td>\n",
       "    </tr>\n",
       "    <tr>\n",
       "      <th>2</th>\n",
       "      <td>No</td>\n",
       "      <td>Yes</td>\n",
       "      <td>Yes</td>\n",
       "      <td>Yes</td>\n",
       "      <td>Yes</td>\n",
       "      <td>Yes</td>\n",
       "      <td>No</td>\n",
       "      <td>Yes</td>\n",
       "      <td>Yes</td>\n",
       "      <td>Yes</td>\n",
       "      <td>No</td>\n",
       "      <td>+1</td>\n",
       "      <td>62</td>\n",
       "      <td>Every three months</td>\n",
       "      <td>Female</td>\n",
       "    </tr>\n",
       "  </tbody>\n",
       "</table>\n",
       "</div>"
      ],
      "text/plain": [
       "  yummy convenient spicy fattening greasy fast cheap tasty expensive healthy  \\\n",
       "0    No        Yes    No       Yes     No  Yes   Yes    No       Yes      No   \n",
       "1   Yes        Yes    No       Yes    Yes  Yes   Yes   Yes       Yes      No   \n",
       "2    No        Yes   Yes       Yes    Yes  Yes    No   Yes       Yes     Yes   \n",
       "\n",
       "  disgusting Like  Age      VisitFrequency  Gender  \n",
       "0         No   -3   61  Every three months  Female  \n",
       "1         No   +2   51  Every three months  Female  \n",
       "2         No   +1   62  Every three months  Female  "
      ]
     },
     "execution_count": 4,
     "metadata": {},
     "output_type": "execute_result"
    }
   ],
   "source": [
    "mcD.head(3)"
   ]
  },
  {
   "cell_type": "code",
   "execution_count": 5,
   "id": "80fb68d8",
   "metadata": {},
   "outputs": [],
   "source": [
    "import numpy as np\n",
    "# Extract columns 0 to 11 and convert to matrix\n",
    "MD_x = mcD.iloc[:,0:11].values\n",
    "# convert 1 to yes and No to 0\n",
    "MD_x = np.where(MD_x==\"Yes\",1,0)\n",
    "# Calculate column means and round to 2 decimal places\n",
    "col=np.round(np.mean(MD_x,axis=0),2)"
   ]
  },
  {
   "cell_type": "code",
   "execution_count": 6,
   "id": "293a9c1b",
   "metadata": {},
   "outputs": [
    {
     "data": {
      "text/plain": [
       "array([[0, 1, 0, ..., 1, 0, 0],\n",
       "       [1, 1, 0, ..., 1, 0, 0],\n",
       "       [0, 1, 1, ..., 1, 1, 0],\n",
       "       ...,\n",
       "       [1, 1, 0, ..., 1, 0, 0],\n",
       "       [1, 1, 0, ..., 0, 1, 0],\n",
       "       [0, 1, 0, ..., 1, 0, 1]])"
      ]
     },
     "execution_count": 6,
     "metadata": {},
     "output_type": "execute_result"
    }
   ],
   "source": [
    "MD_x"
   ]
  },
  {
   "cell_type": "code",
   "execution_count": 7,
   "id": "edcfab08",
   "metadata": {},
   "outputs": [
    {
     "data": {
      "text/plain": [
       "array([0.55, 0.91, 0.09, 0.87, 0.53, 0.9 , 0.6 , 0.64, 0.36, 0.2 , 0.24])"
      ]
     },
     "execution_count": 7,
     "metadata": {},
     "output_type": "execute_result"
    }
   ],
   "source": [
    "col"
   ]
  },
  {
   "cell_type": "code",
   "execution_count": 8,
   "id": "0e35a5a5",
   "metadata": {},
   "outputs": [],
   "source": [
    "from sklearn.decomposition import PCA\n",
    "\n",
    "# perform PCA\n",
    "pca=PCA()\n",
    "md_pca=pca.fit_transform(MD_x)"
   ]
  },
  {
   "cell_type": "code",
   "execution_count": 9,
   "id": "c065daea",
   "metadata": {},
   "outputs": [],
   "source": [
    "summary={\n",
    "    \"Standard deviations\": pca.explained_variance_,\n",
    "    \"Proportion of variance\": pca.explained_variance_ratio_,\n",
    "    \"Cumulative proportion\": pca.explained_variance_ratio_.cumsum()\n",
    "}"
   ]
  },
  {
   "cell_type": "code",
   "execution_count": 10,
   "id": "65c252e1",
   "metadata": {},
   "outputs": [
    {
     "name": "stdout",
     "output_type": "stream",
     "text": [
      "Standard deviations:\n",
      "[0.57312398 0.36900226 0.2546408  0.15904032 0.11384214 0.09627033\n",
      " 0.08392454 0.07569209 0.07035814 0.06192225 0.05612296]\n",
      "Proportion of variance:\n",
      "[0.29944723 0.19279721 0.13304535 0.08309578 0.05948052 0.05029956\n",
      " 0.0438491  0.03954779 0.0367609  0.03235329 0.02932326]\n",
      "Cumulative proportion:\n",
      "[0.29944723 0.49224445 0.6252898  0.70838558 0.7678661  0.81816566\n",
      " 0.86201476 0.90156255 0.93832345 0.97067674 1.        ]\n"
     ]
    }
   ],
   "source": [
    "# print the summary\n",
    "for key, value in summary.items():\n",
    "    print(key+\":\")\n",
    "    print(value)"
   ]
  },
  {
   "cell_type": "code",
   "execution_count": 11,
   "id": "92ee857c",
   "metadata": {},
   "outputs": [
    {
     "name": "stdout",
     "output_type": "stream",
     "text": [
      "      PC1  PC2  PC3  PC4  PC5  PC6  PC7  PC8  PC9  PC10  PC11\n",
      "0     0.4 -0.2  0.7 -0.4  0.2 -0.4 -0.2  0.2  0.2   0.5  -0.6\n",
      "1    -0.2  0.4 -0.7 -0.1  0.0 -0.1 -0.1 -0.0  0.1   0.5  -0.5\n",
      "2     0.4  0.7 -0.1  0.7  0.8 -0.7  0.6  0.4 -0.3   0.1   0.2\n",
      "3    -0.2 -0.4 -0.8  0.2 -0.7 -0.0 -0.1 -0.2 -0.0  -0.3  -0.1\n",
      "4     0.2 -0.8  0.0  0.5  0.9 -0.1 -0.5  0.2 -0.1   0.0   0.1\n",
      "...   ...  ...  ...  ...  ...  ...  ...  ...  ...   ...   ...\n",
      "1448  1.6  0.3 -0.0  0.2 -0.1  0.3 -0.1  0.3 -0.1  -0.4  -0.5\n",
      "1449 -1.0  0.0  0.3  0.4 -0.1  0.4 -0.3  0.9 -0.3  -0.2  -0.2\n",
      "1450 -0.2  1.1  0.2 -0.5 -0.2 -0.2 -0.1 -0.0  0.0   0.1  -0.0\n",
      "1451 -1.2 -0.0  0.6  0.7  0.0  0.2 -0.0 -0.3  0.0  -0.0  -0.1\n",
      "1452  1.6  0.3 -0.0  0.2 -0.1  0.3 -0.1  0.3 -0.1  -0.4  -0.5\n",
      "\n",
      "[1453 rows x 11 columns]\n"
     ]
    }
   ],
   "source": [
    "# create the dataframe\n",
    "pca_df = pd.DataFrame(data=md_pca, columns=[\"PC{}\".format(i + 1) for i in range(pca.n_components_)])\n",
    "print(pca_df.round(1))"
   ]
  },
  {
   "cell_type": "code",
   "execution_count": 12,
   "id": "7c61a3fc",
   "metadata": {},
   "outputs": [
    {
     "name": "stdout",
     "output_type": "stream",
     "text": [
      "    PC1  PC2  PC3  PC4  PC5  PC6  PC7  PC8  PC9  PC10  PC11\n",
      "0  -0.5 -0.2 -0.0  0.1  0.3 -0.1 -0.3 -0.5  0.3  -0.2   0.4\n",
      "1   0.4  0.0  0.0 -0.0 -0.1 -0.1 -0.6  0.3  0.6   0.1  -0.1\n",
      "2  -0.3 -0.1 -0.0 -0.3 -0.8 -0.1 -0.1 -0.3  0.0   0.2  -0.1\n",
      "3   0.1 -0.1  0.2 -0.4  0.3 -0.1  0.1 -0.0  0.1   0.8   0.4\n",
      "4  -0.3  0.3  0.1 -0.1  0.4  0.1 -0.1 -0.2 -0.0   0.3  -0.7\n",
      "5   0.2 -0.3 -0.4 -0.4  0.2 -0.6 -0.1 -0.1 -0.3  -0.2  -0.2\n",
      "6  -0.3 -0.1  0.7 -0.4  0.0 -0.1 -0.0  0.4 -0.1  -0.3  -0.0\n",
      "7   0.0 -0.1  0.4  0.6 -0.1 -0.6  0.1 -0.1  0.0   0.2  -0.2\n",
      "8   0.6 -0.0  0.4 -0.2 -0.0  0.2  0.1 -0.6  0.1  -0.2  -0.1\n",
      "9  -0.1 -0.7 -0.1 -0.0  0.0  0.2  0.4  0.1  0.5  -0.0  -0.3\n",
      "10  0.0 -0.5  0.1  0.3  0.0  0.3 -0.5  0.0 -0.5   0.2  -0.0\n"
     ]
    }
   ],
   "source": [
    "rotation_matrix = pd.DataFrame(data=pca.components_,columns=[\"PC{}\".format(i+1) for i in range(pca.n_components_)])\n",
    "print(rotation_matrix.round(1))"
   ]
  },
  {
   "cell_type": "code",
   "execution_count": 13,
   "id": "b402a51e",
   "metadata": {},
   "outputs": [
    {
     "data": {
      "image/png": "[encoded data removed]",
      "text/plain": [
       "<Figure size 432x288 with 1 Axes>"
      ]
     },
     "metadata": {
      "needs_background": "light"
     },
     "output_type": "display_data"
    }
   ],
   "source": [
    "import matplotlib.pyplot as plt\n",
    "# plot the pca\n",
    "plt.scatter(md_pca[:,0],md_pca[:,1],color='grey')\n",
    "plt.xlabel(\"PC1\")\n",
    "plt.ylabel(\"PC2\")\n",
    "plt.title(\"PCA Projection\")\n",
    "plt.show()"
   ]
  },
  {
   "cell_type": "code",
   "execution_count": 14,
   "id": "be1ad13a",
   "metadata": {},
   "outputs": [
    {
     "data": {
      "text/plain": [
       "array([[-0.47693349, -0.15533159, -0.00635636,  0.11623168,  0.3044427 ,\n",
       "        -0.10849325, -0.33718593, -0.47151394,  0.32904173, -0.21371062,\n",
       "         0.37475293],\n",
       "       [ 0.36378978,  0.016414  ,  0.01880869, -0.03409395, -0.06383884,\n",
       "        -0.0869722 , -0.61063276,  0.3073178 ,  0.60128596,  0.07659344,\n",
       "        -0.13965633],\n",
       "       [-0.30444402, -0.0625153 , -0.03701866, -0.32235949, -0.80237317,\n",
       "        -0.06464172, -0.14931026, -0.28726479,  0.02439661,  0.19205128,\n",
       "        -0.08857138],\n",
       "       [ 0.0551622 , -0.14242496,  0.19761927, -0.35413876,  0.2539601 ,\n",
       "        -0.09736269,  0.11895823, -0.00254696,  0.06781599,  0.76348804,\n",
       "         0.36953871],\n",
       "       [-0.30753507,  0.27760805,  0.07062017, -0.07340475,  0.36139895,\n",
       "         0.10793025, -0.12897259, -0.21089912, -0.00312457,  0.28784553,\n",
       "        -0.72920859],\n",
       "       [ 0.17073819, -0.34783006, -0.3550866 , -0.40651542,  0.20934711,\n",
       "        -0.59463206, -0.10324067, -0.07691443, -0.26134151, -0.17822612,\n",
       "        -0.21087805],\n",
       "       [-0.28051863, -0.05973793,  0.70763705, -0.38594277,  0.03616962,\n",
       "        -0.08684577, -0.04044934,  0.36045348, -0.06838452, -0.34961569,\n",
       "        -0.02679159],\n",
       "       [ 0.01304117, -0.11307868,  0.37593402,  0.58962241, -0.13824084,\n",
       "        -0.62779877,  0.14006047, -0.07279193,  0.02953939,  0.17630281,\n",
       "        -0.16718101],\n",
       "       [ 0.57240278, -0.01846534,  0.40027977, -0.16051227, -0.00284738,\n",
       "         0.16619659,  0.07606907, -0.63908592,  0.06699639, -0.1855722 ,\n",
       "        -0.07248255],\n",
       "       [-0.11028437, -0.66581756, -0.07563413, -0.00533813,  0.00870725,\n",
       "         0.23953197,  0.42808739,  0.0791838 ,  0.45439925, -0.03811713,\n",
       "        -0.28959188],\n",
       "       [ 0.04543901, -0.54161635,  0.14172992,  0.25090987,  0.00164229,\n",
       "         0.33926454, -0.48928285,  0.01955226, -0.49006853,  0.15760765,\n",
       "        -0.04066227]])"
      ]
     },
     "execution_count": 14,
     "metadata": {},
     "output_type": "execute_result"
    }
   ],
   "source": [
    "# get the projecction axes\n",
    "\n",
    "proj_axes = pca.components_\n",
    "proj_axes"
   ]
  },
  {
   "cell_type": "code",
   "execution_count": 15,
   "id": "cff88167",
   "metadata": {},
   "outputs": [],
   "source": [
    "# import warnings\n",
    "# warnings.filterwarnings('ignore')"
   ]
  },
  {
   "cell_type": "markdown",
   "id": "d29181aa",
   "metadata": {},
   "source": [
    "# Step 5: Extracting Segments"
   ]
  },
  {
   "cell_type": "code",
   "execution_count": 16,
   "id": "15433a6f",
   "metadata": {},
   "outputs": [],
   "source": [
    "# import os\n",
    "# os.environ[\"OMP_NUM_THREADS\"] = \"6\"\n",
    "\n",
    "\n",
    "from sklearn.cluster import KMeans\n",
    "from sklearn.utils import check_random_state\n",
    "\n",
    "# Set the random seed\n",
    "np.random.seed(1234)\n",
    "\n",
    "# Perform clustering with different number of clusters and random restarts\n",
    "k_range = range(2, 9)\n",
    "n_rep = 10\n",
    "best_labels = None\n",
    "best_model = None\n",
    "best_inertia = np.inf\n",
    "random_state = check_random_state(1234)\n",
    "\n",
    "for k in k_range:\n",
    "    for _ in range(n_rep):\n",
    "        model = KMeans(n_clusters=k, random_state=random_state)\n",
    "        labels = model.fit_predict(MD_x)\n",
    "        inertia = model.inertia_\n",
    "        if inertia < best_inertia:\n",
    "            best_inertia = inertia\n",
    "            best_labels = labels\n",
    "            best_model = model\n",
    "\n",
    "# Relabel the clustering results\n",
    "unique_labels = np.unique(best_labels)\n",
    "relabel_map = {label: i for i, label in enumerate(unique_labels)}\n",
    "best_labels_relabeled = np.array([relabel_map[label] for label in best_labels])\n",
    "\n"
   ]
  },
  {
   "cell_type": "code",
   "execution_count": 17,
   "id": "b2123224",
   "metadata": {},
   "outputs": [
    {
     "data": {
      "text/plain": [
       "array([7, 5, 5, 1, 0, 6, 3, 1, 2, 5, 0, 5])"
      ]
     },
     "execution_count": 17,
     "metadata": {},
     "output_type": "execute_result"
    }
   ],
   "source": [
    "best_labels=best_labels[:12]\n",
    "best_labels"
   ]
  },
  {
   "cell_type": "code",
   "execution_count": 18,
   "id": "e485652d",
   "metadata": {},
   "outputs": [
    {
     "data": {
      "image/png": "[encoded data removed]",
      "text/plain": [
       "<Figure size 432x288 with 1 Axes>"
      ]
     },
     "metadata": {
      "needs_background": "light"
     },
     "output_type": "display_data"
    }
   ],
   "source": [
    "import seaborn as sns\n",
    "plt.plot(best_labels,marker='o')\n",
    "plt.xlabel('Number of segments')\n",
    "plt.ylabel('Sum of distances within segments')\n",
    "plt.title('Scree Plot')\n",
    "plt.show()\n",
    "\n"
   ]
  },
  {
   "cell_type": "code",
   "execution_count": 19,
   "id": "2c77210e",
   "metadata": {},
   "outputs": [],
   "source": [
    "from sklearn.metrics import adjusted_rand_score\n",
    "from sklearn.utils import resample\n",
    "\n",
    "np.random.seed(1234)\n",
    "\n",
    "n_segments = 7\n",
    "n_rep = 10\n",
    "n_boot = 100\n",
    "boot_results = []\n",
    "\n",
    "\n",
    "for k in range(2, n_segments + 1):\n",
    "    bootstrap_samples = []\n",
    "    for _ in range(n_boot):\n",
    "        bootstrap_data = resample(MD_x, replace=True)\n",
    "        model = KMeans(n_clusters=k, random_state=check_random_state(1234))\n",
    "        labels = model.fit_predict(bootstrap_data)\n",
    "        bootstrap_samples.append(labels)\n",
    "    \n",
    "    boot_results.append(bootstrap_samples)\n",
    "\n",
    "# Transpose the boot_results array\n",
    "boot_results_reshaped = np.array(boot_results).reshape(-1,n_segments-1)\n",
    "\n"
   ]
  },
  {
   "cell_type": "code",
   "execution_count": 20,
   "id": "12f84904",
   "metadata": {},
   "outputs": [
    {
     "data": {
      "text/plain": [
       "array([[0, 0, 1, 1, 1, 1],\n",
       "       [1, 1, 0, 1, 1, 0],\n",
       "       [1, 1, 0, 1, 1, 1],\n",
       "       ...,\n",
       "       [4, 0, 1, 0, 1, 3],\n",
       "       [3, 3, 2, 5, 3, 1],\n",
       "       [6, 3, 1, 1, 0, 2]])"
      ]
     },
     "execution_count": 20,
     "metadata": {},
     "output_type": "execute_result"
    }
   ],
   "source": [
    "boot_results_reshaped=boot_results_reshaped[2:,:7]\n",
    "boot_results_reshaped"
   ]
  },
  {
   "cell_type": "code",
   "execution_count": 21,
   "id": "14dae0ae",
   "metadata": {},
   "outputs": [
    {
     "data": {
      "image/png": "[encoded data removed]",
      "text/plain": [
       "<Figure size 432x288 with 1 Axes>"
      ]
     },
     "metadata": {
      "needs_background": "light"
     },
     "output_type": "display_data"
    }
   ],
   "source": [
    "# Generate labels for each boxplot\n",
    "labels = [str(i) for i in range(2, n_segments+1)]\n",
    "\n",
    "# Plot the global stability boxplot\n",
    "plt.boxplot(boot_results_reshaped, labels=labels)\n",
    "plt.xlabel('Number of segments')\n",
    "plt.ylabel('Adjusted Rand index')\n",
    "plt.title('Global Stability Boxplot')\n",
    "plt.show()"
   ]
  },
  {
   "cell_type": "code",
   "execution_count": 22,
   "id": "c0de7080",
   "metadata": {},
   "outputs": [
    {
     "data": {
      "image/png": "[encoded data removed]",
      "text/plain": [
       "<Figure size 432x288 with 1 Axes>"
      ]
     },
     "metadata": {
      "needs_background": "light"
     },
     "output_type": "display_data"
    }
   ],
   "source": [
    "# Extract the data for the four-segment solution\n",
    "four_segment_data = best_labels[4:]\n",
    "\n",
    "# Create a histogram plot for the four-segment solution\n",
    "plt.hist(four_segment_data, bins=10, range=(0, 1), density=True)\n",
    "plt.xlabel('Values')\n",
    "plt.ylabel('Density')\n",
    "plt.title('Histogram of Segment 4')\n",
    "plt.show()"
   ]
  },
  {
   "cell_type": "code",
   "execution_count": 23,
   "id": "d06477e5",
   "metadata": {},
   "outputs": [
    {
     "data": {
      "text/plain": [
       "array([7, 5, 5, 1, 0, 6, 3, 1, 2, 5, 0, 5])"
      ]
     },
     "execution_count": 23,
     "metadata": {},
     "output_type": "execute_result"
    }
   ],
   "source": [
    "MD_k4 = best_labels[:]\n",
    "MD_k4\n"
   ]
  },
  {
   "cell_type": "code",
   "execution_count": 24,
   "id": "17ed5a9d",
   "metadata": {},
   "outputs": [
    {
     "data": {
      "text/plain": [
       "array([[0, 1, 0, 1, 0, 1, 1, 0, 1, 0, 0],\n",
       "       [1, 1, 0, 1, 1, 1, 1, 1, 1, 0, 0],\n",
       "       [0, 1, 1, 1, 1, 1, 0, 1, 1, 1, 0],\n",
       "       [1, 1, 0, 1, 1, 1, 1, 1, 0, 0, 1],\n",
       "       [0, 1, 0, 1, 1, 1, 1, 0, 0, 1, 0],\n",
       "       [1, 1, 0, 1, 0, 1, 1, 1, 0, 0, 0],\n",
       "       [1, 1, 1, 1, 0, 1, 0, 1, 1, 1, 0],\n",
       "       [1, 1, 0, 1, 1, 1, 1, 1, 0, 0, 0],\n",
       "       [0, 0, 0, 1, 1, 0, 0, 0, 1, 0, 1],\n",
       "       [1, 1, 0, 1, 1, 1, 0, 1, 1, 0, 0],\n",
       "       [0, 1, 0, 1, 0, 1, 1, 0, 0, 0, 1],\n",
       "       [1, 1, 0, 1, 1, 1, 0, 1, 1, 0, 1]])"
      ]
     },
     "execution_count": 24,
     "metadata": {},
     "output_type": "execute_result"
    }
   ],
   "source": [
    "MD_x = MD_x[:12]\n",
    "MD_x"
   ]
  },
  {
   "cell_type": "code",
   "execution_count": 25,
   "id": "3630bf9f",
   "metadata": {},
   "outputs": [
    {
     "data": {
      "image/png": "[encoded data removed]",
      "text/plain": [
       "<Figure size 432x288 with 1 Axes>"
      ]
     },
     "metadata": {
      "needs_background": "light"
     },
     "output_type": "display_data"
    }
   ],
   "source": [
    "from sklearn.metrics import silhouette_samples\n",
    "# Calculate segment level stability\n",
    "\n",
    "\n",
    "segment_stability = silhouette_samples(MD_x, MD_k4)\n",
    "\n",
    "# Plot the segment level stability\n",
    "plt.boxplot(segment_stability.T)\n",
    "plt.ylim(0, 1)\n",
    "plt.xlabel('Segment number')\n",
    "plt.ylabel('Segment stability')\n",
    "plt.title('Segment Level Stability')\n",
    "plt.show()\n"
   ]
  },
  {
   "cell_type": "code",
   "execution_count": 26,
   "id": "03046df4",
   "metadata": {},
   "outputs": [
    {
     "data": {
      "image/png": "[encoded data removed]",
      "text/plain": [
       "<Figure size 432x288 with 1 Axes>"
      ]
     },
     "metadata": {
      "needs_background": "light"
     },
     "output_type": "display_data"
    }
   ],
   "source": [
    "from sklearn.metrics import silhouette_samples\n",
    "\n",
    "# Calculate segment level stability within solutions\n",
    "MD_r4 = silhouette_samples(MD_x, MD_k4)\n",
    "\n",
    "# Plot the result\n",
    "plt.plot(MD_r4)\n",
    "plt.ylim(0, 1)\n",
    "plt.xlabel('Segment number')\n",
    "plt.ylabel('Segment stability')\n",
    "plt.show()\n",
    "\n"
   ]
  },
  {
   "cell_type": "markdown",
   "id": "00dc89f3",
   "metadata": {},
   "source": [
    "# 5.2 using Mixtures of Distribution"
   ]
  },
  {
   "cell_type": "code",
   "execution_count": 27,
   "id": "03c6514c",
   "metadata": {},
   "outputs": [
    {
     "name": "stdout",
     "output_type": "stream",
     "text": [
      "GaussianMixture(covariance_type='diag', n_components=8)\n"
     ]
    }
   ],
   "source": [
    "from sklearn.mixture import GaussianMixture\n",
    "import numpy as np\n",
    "\n",
    "# Set the random seed\n",
    "np.random.seed(1234)\n",
    "\n",
    "# Fit the mixture model to the data\n",
    "k_range = range(2, 9)  # Two to eight segments\n",
    "nrep = 10  # Number of random restarts\n",
    "\n",
    "best_model = None\n",
    "best_bic = np.inf\n",
    "\n",
    "for k in k_range:\n",
    "    bic_scores = []\n",
    "    for _ in range(nrep):\n",
    "        model = GaussianMixture(n_components=k, covariance_type='diag')\n",
    "        model.fit(MD_x)\n",
    "        bic_scores.append(model.bic(MD_x))\n",
    "    avg_bic = np.mean(bic_scores)\n",
    "    if avg_bic < best_bic:\n",
    "        best_bic = avg_bic\n",
    "        best_model = model\n",
    "\n",
    "# Print the resulting mixture model\n",
    "print(best_model)\n"
   ]
  },
  {
   "cell_type": "code",
   "execution_count": 28,
   "id": "25009f3d",
   "metadata": {},
   "outputs": [
    {
     "data": {
      "text/plain": [
       "array([[0, 1, 0, 1, 0, 1, 1, 0, 1, 0, 0],\n",
       "       [1, 1, 0, 1, 1, 1, 1, 1, 1, 0, 0],\n",
       "       [0, 1, 1, 1, 1, 1, 0, 1, 1, 1, 0],\n",
       "       [1, 1, 0, 1, 1, 1, 1, 1, 0, 0, 1],\n",
       "       [0, 1, 0, 1, 1, 1, 1, 0, 0, 1, 0],\n",
       "       [1, 1, 0, 1, 0, 1, 1, 1, 0, 0, 0],\n",
       "       [1, 1, 1, 1, 0, 1, 0, 1, 1, 1, 0],\n",
       "       [1, 1, 0, 1, 1, 1, 1, 1, 0, 0, 0],\n",
       "       [0, 0, 0, 1, 1, 0, 0, 0, 1, 0, 1],\n",
       "       [1, 1, 0, 1, 1, 1, 0, 1, 1, 0, 0]])"
      ]
     },
     "execution_count": 28,
     "metadata": {},
     "output_type": "execute_result"
    }
   ],
   "source": [
    "MD_x=MD_x[:10]\n",
    "MD_x"
   ]
  },
  {
   "cell_type": "code",
   "execution_count": 29,
   "id": "22122b84",
   "metadata": {},
   "outputs": [
    {
     "data": {
      "text/plain": [
       "(10, 11)"
      ]
     },
     "execution_count": 29,
     "metadata": {},
     "output_type": "execute_result"
    }
   ],
   "source": [
    "MD_x.shape"
   ]
  },
  {
   "cell_type": "code",
   "execution_count": 30,
   "id": "13e73f79",
   "metadata": {
    "scrolled": true
   },
   "outputs": [
    {
     "name": "stdout",
     "output_type": "stream",
     "text": [
      "[-1146.8236227157845, -1132.7221816184071, -1118.62074052103, -1104.5192994236527, -1090.4178583262756, -1076.3164172288982, -1062.214976131521]\n"
     ]
    }
   ],
   "source": [
    "import warnings\n",
    "warnings.filterwarnings('ignore')\n",
    "from sklearn.mixture import GaussianMixture\n",
    "import numpy as np\n",
    "\n",
    "# Set the random seed\n",
    "np.random.seed(1234)\n",
    "\n",
    "# Define the range of number of components (segments)\n",
    "k_range = range(2, 9)\n",
    "\n",
    "# Fit the Gaussian Mixture Models for different number of components\n",
    "bic_scores = []\n",
    "models = []\n",
    "for k in k_range:\n",
    "    model = GaussianMixture(n_components=k, covariance_type='full')\n",
    "    model.fit(MD_x.reshape(-1, 1))\n",
    "    bic_scores.append(model.bic(MD_x.reshape(-1, 1)))\n",
    "    models.append(model)\n",
    "\n",
    "# Print the BIC scores\n",
    "print(bic_scores)\n"
   ]
  },
  {
   "cell_type": "code",
   "execution_count": 31,
   "id": "304d3fde",
   "metadata": {},
   "outputs": [
    {
     "name": "stdout",
     "output_type": "stream",
     "text": [
      "AIC: 67.65873015873014\n",
      "BIC: 72.26390034471822\n"
     ]
    }
   ],
   "source": [
    "from sklearn.cluster import KMeans\n",
    "from sklearn.preprocessing import StandardScaler\n",
    "\n",
    "# Remove duplicate points from the data\n",
    "unique_data = np.unique(MD_x, axis=0)\n",
    "\n",
    "# Normalize the data\n",
    "scaler = StandardScaler()\n",
    "normalized_data = scaler.fit_transform(unique_data)\n",
    "\n",
    "# Fit K-means on the normalized data with the adjusted number of clusters\n",
    "k = 2  # Adjust the number of clusters\n",
    "kmeans = KMeans(n_clusters=k, random_state=1234)\n",
    "labels = kmeans.fit_predict(normalized_data)\n",
    "\n",
    "# Calculate the information criteria\n",
    "aic = kmeans.inertia_\n",
    "bic = aic + np.log(normalized_data.shape[0]) * k\n",
    "\n",
    "# Print the information criteria\n",
    "print(\"AIC:\", aic)\n",
    "print(\"BIC:\", bic)\n"
   ]
  },
  {
   "cell_type": "code",
   "execution_count": 32,
   "id": "627f0a34",
   "metadata": {
    "scrolled": false
   },
   "outputs": [
    {
     "data": {
      "image/png": "[encoded data removed]",
      "text/plain": [
       "<Figure size 432x288 with 1 Axes>"
      ]
     },
     "metadata": {
      "needs_background": "light"
     },
     "output_type": "display_data"
    }
   ],
   "source": [
    "\n",
    "from sklearn import metrics\n",
    "\n",
    "# Set the random seed\n",
    "np.random.seed(1234)\n",
    "\n",
    "# Fit Gaussian Mixture Models with different number of components\n",
    "k_range = range(2, 9)  # Number of segments: 2 to 8\n",
    "nrep = 10  # Number of random restarts\n",
    "models = [GaussianMixture(n_components=k, covariance_type='full').fit(MD_x.reshape(-1, 1)) for k in k_range]\n",
    "\n",
    "# Calculate the information criteria\n",
    "aic = [model.aic(MD_x.reshape(-1, 1)) for model in models]\n",
    "bic = [model.bic(MD_x.reshape(-1, 1)) for model in models]\n",
    "\n",
    "# Calculate the ICL (Integrated Completed Likelihood)\n",
    "icl = []\n",
    "for i, model in enumerate(models):\n",
    "    log_likelihood = model.score(MD_x.reshape(-1, 1))\n",
    "    penalty = 0.5 * np.log(len(MD_x)) * model.n_components * (model.n_components + 1)\n",
    "    icl.append(log_likelihood - penalty)\n",
    "\n",
    "# Plot the information criteria\n",
    "plt.plot(k_range, aic, label='AIC')\n",
    "plt.plot(k_range, bic, label='BIC')\n",
    "plt.plot(k_range, icl, label='ICL')\n",
    "plt.xlabel('Number of Segments')\n",
    "plt.ylabel('Value of Information Criteria (AIC, BIC, ICL)')\n",
    "plt.title('Information Criteria')\n",
    "plt.legend()\n",
    "plt.show()\n"
   ]
  },
  {
   "cell_type": "code",
   "execution_count": 33,
   "id": "3e44c704",
   "metadata": {},
   "outputs": [
    {
     "name": "stdout",
     "output_type": "stream",
     "text": [
      "   kmeans  mixture\n",
      "0       1        3\n",
      "1       2        3\n",
      "2       3        1\n",
      "3       2        0\n",
      "4       1        3\n",
      "5       2        3\n",
      "6       3        1\n",
      "7       2        3\n",
      "8       0        2\n",
      "9       2        3\n"
     ]
    }
   ],
   "source": [
    "from sklearn.cluster import KMeans\n",
    "from sklearn.mixture import GaussianMixture\n",
    "import pandas as pd\n",
    "\n",
    "# Fit K-means on the data with four segments\n",
    "k = 4\n",
    "kmeans = KMeans(n_clusters=k, random_state=1234)\n",
    "labels_kmeans = kmeans.fit_predict(MD_x)\n",
    "\n",
    "# Fit the mixture model with four segments\n",
    "n_components = 4\n",
    "gmm = GaussianMixture(n_components=n_components, covariance_type='full', random_state=1234)\n",
    "gmm.fit(MD_x)\n",
    "labels_mixture = gmm.predict(MD_x)\n",
    "\n",
    "# Create a DataFrame to store the cluster comparison\n",
    "cluster_comparison = pd.DataFrame({'kmeans': labels_kmeans, 'mixture': labels_mixture})\n",
    "\n",
    "# Print the cluster comparison table\n",
    "print(cluster_comparison)\n"
   ]
  },
  {
   "cell_type": "code",
   "execution_count": 34,
   "id": "05249f36",
   "metadata": {},
   "outputs": [
    {
     "data": {
      "text/plain": [
       "(10, 11)"
      ]
     },
     "execution_count": 34,
     "metadata": {},
     "output_type": "execute_result"
    }
   ],
   "source": [
    "MD_x=MD_x[:]\n",
    "MD_x.shape"
   ]
  },
  {
   "cell_type": "code",
   "execution_count": 35,
   "id": "2be8676a",
   "metadata": {},
   "outputs": [],
   "source": [
    "# from sklearn.cluster import KMeans\n",
    "# from sklearn.mixture import GaussianMixture\n",
    "# import pandas as pd\n",
    "\n",
    "# # Fit K-means on the data with four segments\n",
    "# k = 4\n",
    "# kmeans = KMeans(n_clusters=k, random_state=1234)\n",
    "# labels_kmeans = kmeans.fit_predict(MD_x[:4])\n",
    "\n",
    "# # Initialize the mixture model using the segment memberships of K-means\n",
    "# gmm_initialized = GaussianMixture(n_components=k, covariance_type='full', random_state=1234, init_params='kmeans')\n",
    "# gmm_initialized.fit(MD_x.reshape(-1, 1), labels_kmeans)\n",
    "\n",
    "# # Obtain the cluster assignments from the mixture model\n",
    "# labels_mixture_initialized = gmm_initialized.predict(MD_x.reshape(-1, 1))\n",
    "\n",
    "# labels_mixture_initialized=labels_mixture_initialized[:4]\n",
    "# print(labels_mixture_initialized.shape)\n",
    "# print(labels_kmeans.shape)\n",
    "\n",
    "# # Create a DataFrame to store the cluster comparison\n",
    "# cluster_comparison_initialized = pd.DataFrame({'kmeans': labels_kmeans, 'mixture_initialized': labels_mixture_initialized})\n",
    "\n",
    "# # Print the cluster comparison table\n",
    "# print(cluster_comparison_initialized)\n"
   ]
  },
  {
   "cell_type": "code",
   "execution_count": 43,
   "id": "54f86371",
   "metadata": {},
   "outputs": [
    {
     "name": "stdout",
     "output_type": "stream",
     "text": [
      "mixture  0  1  3\n",
      "kmeans          \n",
      "1        0  0  1\n",
      "2        1  0  1\n",
      "3        0  1  0\n"
     ]
    }
   ],
   "source": [
    "\n",
    "import pandas as pd\n",
    "\n",
    "# Get the cluster assignments from MD.k4 and MD.m4a\n",
    "kmeans_clusters = labels_kmeans[:4]\n",
    "mixture_clusters =labels_mixture[:4]\n",
    "\n",
    "# Create a table to compare the cluster assignments\n",
    "table_result = pd.crosstab(kmeans_clusters, mixture_clusters, rownames=['kmeans'], colnames=['mixture'])\n",
    "print(table_result)\n",
    "\n"
   ]
  },
  {
   "cell_type": "markdown",
   "id": "58373746",
   "metadata": {},
   "source": [
    "# 5.3 Using Mixtures of Regression Models"
   ]
  },
  {
   "cell_type": "code",
   "execution_count": 44,
   "id": "22ed5877",
   "metadata": {
    "scrolled": false
   },
   "outputs": [
    {
     "name": "stdout",
     "output_type": "stream",
     "text": [
      "I love it!+5    143\n",
      "I hate it!-5    152\n",
      "0               169\n",
      "-4               71\n",
      "-3               73\n",
      "-2               59\n",
      "-1               58\n",
      "+4              160\n",
      "+3              229\n",
      "+2              187\n",
      "+1              152\n",
      "Name: Like, dtype: int64\n"
     ]
    }
   ],
   "source": [
    "\n",
    "# Calculate the reversed table of the numeric variable\n",
    "# table_like = mcD['Like'].astype(int)\n",
    "table_like=mcD['Like'].value_counts().sort_index(ascending=False)\n",
    "# Print the reversed table\n",
    "print(table_like)\n",
    "\n"
   ]
  },
  {
   "cell_type": "code",
   "execution_count": 76,
   "id": "48cb534a",
   "metadata": {},
   "outputs": [
    {
     "name": "stdout",
     "output_type": "stream",
     "text": [
      "+3              229\n",
      "+2              187\n",
      "6               169\n",
      "+4              160\n",
      "+1              152\n",
      "I hate it!-5    152\n",
      "I love it!+5    143\n",
      "-3               73\n",
      "-4               71\n",
      "-2               59\n",
      "-1               58\n",
      "Name: Like_n, dtype: int64\n"
     ]
    }
   ],
   "source": [
    "import pandas as pd\n",
    "\n",
    "numeric_codes = {\n",
    "    'I LOVE IT!(+5)': 1,\n",
    "    'I like it (+4)': 2,\n",
    "    'I like it (+3)': 3,\n",
    "    'I like it (+2)': 4,\n",
    "    'I like it (+1)': 5,\n",
    "    'I dislike it (-1)': 7,\n",
    "    'I dislike it (-2)': 8,\n",
    "    'I dislike it (-3)': 9,\n",
    "    'I dislike it (-4)': 10,\n",
    "    'I HATE IT!(-5)': 11\n",
    "}\n",
    "\n",
    "mcD['Like_n'] = mcD['Like'].apply(lambda x: 6 - int(x) if isinstance(x, str) and x.isdigit() else numeric_codes.get(x, x))\n",
    "table = pd.Series(mcD['Like_n']).value_counts()\n",
    "# table = table.reindex(sorted(table.index))\n",
    "print(table)\n"
   ]
  },
  {
   "cell_type": "code",
   "execution_count": 77,
   "id": "bd23ac83",
   "metadata": {},
   "outputs": [
    {
     "name": "stdout",
     "output_type": "stream",
     "text": [
      "table ~ yummy + convenient + spicy + fattening + greasy + fast + cheap + tasty + expensive + healthy + disgusting\n"
     ]
    }
   ],
   "source": [
    "\n",
    "\n",
    "mcdonalds_columns = mcD.columns[:11]\n",
    "f = \" + \".join(mcdonalds_columns)\n",
    "f = \"table ~ \" + f\n",
    "print(f)\n"
   ]
  },
  {
   "cell_type": "code",
   "execution_count": 124,
   "id": "3e666043",
   "metadata": {},
   "outputs": [
    {
     "name": "stdout",
     "output_type": "stream",
     "text": [
      "{'models': [LinearRegression(), LinearRegression()], 'cluster_labels': array([0, 0, 0, ..., 0, 1, 1], dtype=int64)}\n",
      "[[56.33927003]\n",
      " [32.40887669]]\n"
     ]
    }
   ],
   "source": [
    "from sklearn.mixture import GaussianMixture\n",
    "\n",
    "\n",
    "# Set the seed for reproducibility\n",
    "np.random.seed(1234)\n",
    "# Define the mapping of sentiment or rating values to numerical values\n",
    "sentiment_mapping = {\n",
    "    'I hate it!-5': -5,\n",
    "    'I dislike it!-4': -4,\n",
    "    'I don\\'t like it!-3': -3,\n",
    "    'It\\'s okay.-2': -2,\n",
    "    'I like it!+1': 1,\n",
    "    'I really like it!+2': 2,\n",
    "    'I love it!+5': 5\n",
    "}\n",
    "\n",
    "# Apply the mapping to convert sentiment or rating values to numerical values\n",
    "mcD['Like_numeric'] = mcD['Like'].map(sentiment_mapping)\n",
    "\n",
    "# Create the feature matrix 'X' from the 'f' columns in 'mcdonalds'\n",
    "# f=['Like'].astype(int)\n",
    "X = mcD[f].values.astype(int)\n",
    "y=mcD['Like_numeric'].values.astype(int)\n",
    "# Set the number of components and random seed\n",
    "n_components = 2\n",
    "n_init = 10\n",
    "seed=1234\n",
    "# Fit the Gaussian Mixture Model\n",
    "model = GaussianMixture(n_components=n_components, n_init=n_init, random_state=seed)\n",
    "model.fit(X)\n",
    "\n",
    "# Get the cluster assignments for each data point\n",
    "cluster_labels = model.predict(X)\n",
    "\n",
    "# Access the means and covariances of the fitted components\n",
    "component_means = model.means_\n",
    "component_covariances = model.covariances_\n",
    "\n",
    "regression_models = []\n",
    "for cluster in range(n_components):\n",
    "    cluster_X = X[cluster_labels == cluster]\n",
    "    cluster_y = y[cluster_labels == cluster]\n",
    "    regression_model = LinearRegression()\n",
    "    regression_model.fit(cluster_X,cluster_y)\n",
    "    \n",
    "    regression_models.append(regression_model)\n",
    "    \n",
    "# Store the results\n",
    "MD_reg2 = {\n",
    "     \n",
    "    'models': regression_models,\n",
    "    'cluster_labels': cluster_labels\n",
    "}\n",
    "\n",
    "print(MD_reg2)\n",
    "regression_models=model.means_\n",
    "print(regression_models)"
   ]
  },
  {
   "cell_type": "code",
   "execution_count": 104,
   "id": "3a591e24",
   "metadata": {},
   "outputs": [
    {
     "data": {
      "text/plain": [
       "array([[[53.40534845]],\n",
       "\n",
       "       [[64.79460151]]])"
      ]
     },
     "execution_count": 104,
     "metadata": {},
     "output_type": "execute_result"
    }
   ],
   "source": [
    "component_means\n",
    "component_covariances"
   ]
  },
  {
   "cell_type": "code",
   "execution_count": 114,
   "id": "dadb248e",
   "metadata": {},
   "outputs": [
    {
     "data": {
      "text/plain": [
       "(2, 1)"
      ]
     },
     "execution_count": 114,
     "metadata": {},
     "output_type": "execute_result"
    }
   ],
   "source": [
    "regression_models.shape"
   ]
  },
  {
   "cell_type": "code",
   "execution_count": 132,
   "id": "fa032e60",
   "metadata": {},
   "outputs": [
    {
     "name": "stdout",
     "output_type": "stream",
     "text": [
      "Component 1:\n",
      "\n",
      "                                   OLS Regression Results                                   \n",
      "============================================================================================\n",
      "Dep. Variable:                      0   R-squared (uncentered):      -162984723835632160.000\n",
      "Model:                            OLS   Adj. R-squared (uncentered): -163204676229472416.000\n",
      "Method:                 Least Squares   F-statistic:                                  -741.0\n",
      "Date:                Fri, 30 Jun 2023   Prob (F-statistic):                             1.00\n",
      "Time:                        20:33:41   Log-Likelihood:                              -16327.\n",
      "No. Observations:                 742   AIC:                                       3.266e+04\n",
      "Df Residuals:                     741   BIC:                                       3.266e+04\n",
      "Df Model:                           1                                                       \n",
      "Covariance Type:            nonrobust                                                       \n",
      "==============================================================================\n",
      "                 coef    std err          t      P>|t|      [0.025      0.975]\n",
      "------------------------------------------------------------------------------\n",
      "0          -3.032e+07    5.6e+05    -54.127      0.000   -3.14e+07   -2.92e+07\n",
      "==============================================================================\n",
      "Omnibus:                      163.864   Durbin-Watson:                   2.102\n",
      "Prob(Omnibus):                  0.000   Jarque-Bera (JB):              282.364\n",
      "Skew:                           1.487   Prob(JB):                     4.85e-62\n",
      "Kurtosis:                       3.540   Cond. No.                         1.00\n",
      "==============================================================================\n",
      "\n",
      "Notes:\n",
      "[1] R² is computed without centering (uncentered) since the model does not contain a constant.\n",
      "[2] Standard Errors assume that the covariance matrix of the errors is correctly specified.\n",
      "\n",
      "\n",
      "Component 2:\n",
      "\n",
      "                                   OLS Regression Results                                   \n",
      "============================================================================================\n",
      "Dep. Variable:                      0   R-squared (uncentered):      -161304293924270816.000\n",
      "Model:                            OLS   Adj. R-squared (uncentered): -161531483070643040.000\n",
      "Method:                 Least Squares   F-statistic:                                  -710.0\n",
      "Date:                Fri, 30 Jun 2023   Prob (F-statistic):                             1.00\n",
      "Time:                        20:33:41   Log-Likelihood:                              -15702.\n",
      "No. Observations:                 711   AIC:                                       3.141e+04\n",
      "Df Residuals:                     710   BIC:                                       3.141e+04\n",
      "Df Model:                           1                                                       \n",
      "Covariance Type:            nonrobust                                                       \n",
      "==============================================================================\n",
      "                 coef    std err          t      P>|t|      [0.025      0.975]\n",
      "------------------------------------------------------------------------------\n",
      "0          -5.009e+07   1.08e+06    -46.423      0.000   -5.22e+07    -4.8e+07\n",
      "==============================================================================\n",
      "Omnibus:                       94.186   Durbin-Watson:                   2.028\n",
      "Prob(Omnibus):                  0.000   Jarque-Bera (JB):              132.679\n",
      "Skew:                           1.057   Prob(JB):                     1.55e-29\n",
      "Kurtosis:                       2.892   Cond. No.                         1.00\n",
      "==============================================================================\n",
      "\n",
      "Notes:\n",
      "[1] R² is computed without centering (uncentered) since the model does not contain a constant.\n",
      "[2] Standard Errors assume that the covariance matrix of the errors is correctly specified.\n",
      "\n",
      "\n"
     ]
    }
   ],
   "source": [
    "from statsmodels.api import OLS\n",
    "# Assign the component labels to each data point\n",
    "labels = model.predict(X)\n",
    "\n",
    "# Refit the model for each component\n",
    "refit_models = []\n",
    "for component in range(n_components):\n",
    "    indices = np.where(labels == component)[0]\n",
    "    refit_model = OLS(pd.DataFrame(y).iloc[indices], pd.DataFrame(X).iloc[indices]).fit()\n",
    "    refit_models.append(refit_model)\n",
    "\n",
    "# Get the summary of each refitted model\n",
    "for component, refit_model in enumerate(refit_models):\n",
    "    print(f\"Component {component+1}:\\n\")\n",
    "    print(refit_model.summary())\n",
    "    print(\"\\n\")"
   ]
  },
  {
   "cell_type": "markdown",
   "id": "d055bde7",
   "metadata": {},
   "source": [
    "# Step 6 : Profiling Segments"
   ]
  },
  {
   "cell_type": "code",
   "execution_count": 134,
   "id": "bd369660",
   "metadata": {},
   "outputs": [
    {
     "data": {
      "text/plain": [
       "{'icoord': [[5.0, 5.0, 15.0, 15.0],\n",
       "  [45.0, 45.0, 55.0, 55.0],\n",
       "  [35.0, 35.0, 50.0, 50.0],\n",
       "  [25.0, 25.0, 42.5, 42.5],\n",
       "  [10.0, 10.0, 33.75, 33.75],\n",
       "  [65.0, 65.0, 75.0, 75.0],\n",
       "  [95.0, 95.0, 105.0, 105.0],\n",
       "  [85.0, 85.0, 100.0, 100.0],\n",
       "  [70.0, 70.0, 92.5, 92.5],\n",
       "  [21.875, 21.875, 81.25, 81.25]],\n",
       " 'dcoord': [[0.0, 1.0, 1.0, 0.0],\n",
       "  [0.0, 0.0, 0.0, 0.0],\n",
       "  [0.0, 1.1547005383792515, 1.1547005383792515, 0.0],\n",
       "  [0.0, 2.1602468994692865, 2.1602468994692865, 1.1547005383792515],\n",
       "  [1.0, 2.449489742783178, 2.449489742783178, 2.1602468994692865],\n",
       "  [0.0, 1.0, 1.0, 0.0],\n",
       "  [0.0, 2.23606797749979, 2.23606797749979, 0.0],\n",
       "  [0.0, 2.380476142847616, 2.380476142847616, 2.23606797749979],\n",
       "  [1.0, 2.7446918466985206, 2.7446918466985206, 2.380476142847616],\n",
       "  [2.449489742783178,\n",
       "   4.109855117994926,\n",
       "   4.109855117994926,\n",
       "   2.7446918466985206]],\n",
       " 'ivl': ['0', '7', '6', '3', '1', '5', '2', '9', '10', '4', '8'],\n",
       " 'leaves': [0, 7, 6, 3, 1, 5, 2, 9, 10, 4, 8],\n",
       " 'color_list': ['C1', 'C1', 'C1', 'C1', 'C1', 'C2', 'C2', 'C2', 'C2', 'C0'],\n",
       " 'leaves_color_list': ['C1',\n",
       "  'C1',\n",
       "  'C1',\n",
       "  'C1',\n",
       "  'C1',\n",
       "  'C1',\n",
       "  'C2',\n",
       "  'C2',\n",
       "  'C2',\n",
       "  'C2',\n",
       "  'C2']}"
      ]
     },
     "execution_count": 134,
     "metadata": {},
     "output_type": "execute_result"
    },
    {
     "data": {
      "image/png": "[encoded data removed]",
      "text/plain": [
       "<Figure size 432x288 with 1 Axes>"
      ]
     },
     "metadata": {
      "needs_background": "light"
     },
     "output_type": "display_data"
    }
   ],
   "source": [
    "import numpy as np\n",
    "from scipy.cluster.hierarchy import linkage, dendrogram\n",
    "\n",
    "# Transpose the data matrix\n",
    "MD_x_transposed = np.transpose(MD_x)\n",
    "\n",
    "# Compute the pairwise distances\n",
    "distances = linkage(MD_x_transposed, method='ward' , metric='euclidean')\n",
    "\n",
    "# Generate the hierarchical clustering dendrogram\n",
    "dendrogram(distances)\n"
   ]
  },
  {
   "cell_type": "code",
   "execution_count": 154,
   "id": "0ee06d93",
   "metadata": {},
   "outputs": [
    {
     "data": {
      "image/png": "[encoded data removed]",
      "text/plain": [
       "<Figure size 576x432 with 2 Axes>"
      ]
     },
     "metadata": {
      "needs_background": "light"
     },
     "output_type": "display_data"
    },
    {
     "data": {
      "image/png": "[encoded data removed]",
      "text/plain": [
       "<Figure size 576x432 with 1 Axes>"
      ]
     },
     "metadata": {
      "needs_background": "light"
     },
     "output_type": "display_data"
    }
   ],
   "source": [
    "import matplotlib.pyplot as plt\n",
    "from sklearn.decomposition import PCA\n",
    "\n",
    "# Perform PCA\n",
    "pca = PCA(n_components=2)\n",
    "pca_result = pca.fit_transform(MD_x)\n",
    "\n",
    "# Create the scatter plot\n",
    "plt.figure(figsize=(8, 6))\n",
    "plt.scatter(pca_result[:, 0], pca_result[:, 1], c=labels_kmeans)\n",
    "plt.xlabel('Principal Component 1')\n",
    "plt.ylabel('Principal Component 2')\n",
    "plt.title('Segmentation Results')\n",
    "plt.colorbar(label='Segment Labels')\n",
    "plt.show()\n",
    "\n",
    "# Plot the projection axes\n",
    "plt.figure(figsize=(8, 6))\n",
    "plt.plot([0, pca.components_[0, 0]], [0, pca.components_[0, 1]], 'r-', label='PC1')\n",
    "plt.plot([0, pca.components_[1, 0]], [0, pca.components_[1, 1]], 'b-', label='PC2')\n",
    "plt.xlabel('Variable Space')\n",
    "plt.ylabel('Principal Component Space')\n",
    "plt.title('Projection Axes')\n",
    "plt.legend()\n",
    "plt.show()\n",
    "\n"
   ]
  },
  {
   "cell_type": "markdown",
   "id": "3f4a522e",
   "metadata": {},
   "source": [
    "# Step 7: Describing Segments"
   ]
  },
  {
   "cell_type": "code",
   "execution_count": 177,
   "id": "06febd2c",
   "metadata": {},
   "outputs": [
    {
     "data": {
      "text/plain": [
       "(10,)"
      ]
     },
     "execution_count": 177,
     "metadata": {},
     "output_type": "execute_result"
    }
   ],
   "source": [
    "Like = mcD['Like'][:10]\n",
    "Like.shape"
   ]
  },
  {
   "cell_type": "code",
   "execution_count": 180,
   "id": "3433aa3c",
   "metadata": {},
   "outputs": [
    {
     "data": {
      "text/plain": [
       "(10,)"
      ]
     },
     "execution_count": 180,
     "metadata": {},
     "output_type": "execute_result"
    }
   ],
   "source": [
    "labels_kmeans=labels_kmeans[:10]\n",
    "labels_kmeans.shape"
   ]
  },
  {
   "cell_type": "code",
   "execution_count": 181,
   "id": "332c80d1",
   "metadata": {},
   "outputs": [
    {
     "data": {
      "image/png": "[encoded data removed]",
      "text/plain": [
       "<Figure size 576x432 with 2 Axes>"
      ]
     },
     "metadata": {
      "needs_background": "light"
     },
     "output_type": "display_data"
    }
   ],
   "source": [
    "\n",
    "# Calculate the table of counts\n",
    "\n",
    "table_counts = pd.crosstab(index=labels_kmeans, columns=mcD['Like'][:10])\n",
    "table_counts=table_counts.T\n",
    "# Create the mosaic plot\n",
    "plt.figure(figsize=(8, 6))\n",
    "plt.pcolor(table_counts, cmap='Blues')\n",
    "plt.colorbar(label='Count')\n",
    "plt.xlabel('Segment Number')\n",
    "plt.ylabel('Like')\n",
    "plt.title('Segmentation Results')\n",
    "plt.show()\n"
   ]
  },
  {
   "cell_type": "code",
   "execution_count": 183,
   "id": "99b06c99",
   "metadata": {},
   "outputs": [
    {
     "data": {
      "image/png": "[encoded data removed]",
      "text/plain": [
       "<Figure size 576x432 with 2 Axes>"
      ]
     },
     "metadata": {
      "needs_background": "light"
     },
     "output_type": "display_data"
    }
   ],
   "source": [
    "\n",
    "# Calculate the table of counts\n",
    "table_counts = pd.crosstab(index=labels_kmeans, columns=mcD['Gender'][:10])\n",
    "\n",
    "# Create the mosaic plot\n",
    "plt.figure(figsize=(8, 6))\n",
    "plt.pcolor(table_counts, cmap='Blues')\n",
    "plt.colorbar(label='Count')\n",
    "plt.xlabel('Segment Number')\n",
    "plt.ylabel('Gender')\n",
    "plt.title('Gender Distribution across Segments')\n",
    "plt.show()\n"
   ]
  },
  {
   "cell_type": "code",
   "execution_count": 201,
   "id": "0dadbf51",
   "metadata": {},
   "outputs": [
    {
     "data": {
      "image/png": "[encoded data removed]",
      "text/plain": [
       "<Figure size 864x576 with 1 Axes>"
      ]
     },
     "metadata": {
      "needs_background": "light"
     },
     "output_type": "display_data"
    }
   ],
   "source": [
    "# from sklearn.tree import DecisionTreeClassifier\n",
    "# import matplotlib.pyplot as plt\n",
    "\n",
    "# # Define the features and target variable\n",
    "# X = mcD[['Like','Age', 'VisitFrequency', 'Gender']]\n",
    "# y = (labels_kmeans== 3).astype(int)\n",
    "\n",
    "# # Create the decision tree\n",
    "# tree = DecisionTreeClassifier()\n",
    "# tree.fit(X, y)\n",
    "\n",
    "# # Plot the decision tree\n",
    "# plt.figure(figsize=(12, 8))\n",
    "# plot_tree(tree, feature_names=X.columns, class_names=['Not Segment 3', 'Segment 3'], filled=True)\n",
    "# plt.show()\n",
    "from sklearn.tree import DecisionTreeClassifier,plot_tree\n",
    "from sklearn.preprocessing import LabelEncoder\n",
    "\n",
    "# Convert columns to numeric type\n",
    "mcD['Like_n'] = pd.to_numeric(mcD['Like_n'], errors='coerce')\n",
    "\n",
    "# Encode the 'Gender' column\n",
    "label_encoder = LabelEncoder()\n",
    "mcD['Gender_encoded'] = label_encoder.fit_transform(mcD['Gender'])\n",
    "\n",
    "# Define the features and target variable\n",
    "X = mcD[['Age', 'Gender_encoded']][:10]\n",
    "y = (labels_kmeans == 3).astype(int)\n",
    "\n",
    "# Create the decision tree\n",
    "tree = DecisionTreeClassifier()\n",
    "tree.fit(X, y)\n",
    "\n",
    "# Plot the decision tree\n",
    "plt.figure(figsize=(12, 8))\n",
    "plot_tree(tree, feature_names=X.columns, class_names=['Not Segment 3', 'Segment 3'], filled=True)\n",
    "plt.show()\n",
    "\n"
   ]
  },
  {
   "cell_type": "code",
   "execution_count": 208,
   "id": "a3b41da4",
   "metadata": {},
   "outputs": [
    {
     "name": "stdout",
     "output_type": "stream",
     "text": [
      "(10,)\n",
      "(10,)\n"
     ]
    }
   ],
   "source": [
    "visitFrequency = mcD['VisitFrequency'][:10]\n",
    "print(visitFrequency.shape)\n",
    "print(labels_kmeans.shape)"
   ]
  },
  {
   "cell_type": "code",
   "execution_count": 213,
   "id": "7c36fa76",
   "metadata": {},
   "outputs": [
    {
     "name": "stdout",
     "output_type": "stream",
     "text": [
      "                             Age    Like_n  Like_numeric  Gender_encoded\n",
      "VisitFrequency                                                          \n",
      "Every three months     46.666667  1.796875      0.000000        0.444444\n",
      "More than once a week  37.944444  3.333333      5.000000        0.518519\n",
      "Never                  51.167939 -0.531915     -4.880952        0.503817\n",
      "Once a month           42.305239  2.651042      3.363636        0.460137\n",
      "Once a week            38.753191  2.761628      4.523810        0.497872\n",
      "Once a year            49.285714  0.219512     -4.787234        0.396825\n"
     ]
    }
   ],
   "source": [
    "visit = mcD.groupby('VisitFrequency').mean()\n",
    "print(visit)"
   ]
  }
 ],
 "metadata": {
  "kernelspec": {
   "display_name": "Python 3 (ipykernel)",
   "language": "python",
   "name": "python3"
  },
  "language_info": {
   "codemirror_mode": {
    "name": "ipython",
    "version": 3
   },
   "file_extension": ".py",
   "mimetype": "text/x-python",
   "name": "python",
   "nbconvert_exporter": "python",
   "pygments_lexer": "ipython3",
   "version": "3.9.7"
  }
 },
 "nbformat": 4,
 "nbformat_minor": 5
}
